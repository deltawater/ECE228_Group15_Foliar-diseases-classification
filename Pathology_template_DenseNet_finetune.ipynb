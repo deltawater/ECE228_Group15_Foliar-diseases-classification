{
 "cells": [
  {
   "cell_type": "code",
   "execution_count": 1,
   "metadata": {
    "colab": {},
    "colab_type": "code",
    "id": "EQJk3YwZe-sN",
    "nbpresent": {
     "id": "b6e776bc-7c27-402c-b3e0-1e189b79df1a"
    }
   },
   "outputs": [],
   "source": [
    "from tqdm import tqdm\n",
    "import cv2\n",
    "import pandas as pd\n",
    "import numpy as np\n",
    "import os\n",
    "import matplotlib.pyplot as plt\n",
    "import pickle"
   ]
  },
  {
   "cell_type": "code",
   "execution_count": 2,
   "metadata": {
    "colab": {
     "base_uri": "https://localhost:8080/",
     "height": 493
    },
    "colab_type": "code",
    "id": "vdsNv_GxmeQ9",
    "nbpresent": {
     "id": "71fab374-172e-4fa3-9b70-f27666304b3a"
    },
    "outputId": "e9f33683-9ab9-4004-a343-8b22010c0ae7"
   },
   "outputs": [
    {
     "name": "stdout",
     "output_type": "stream",
     "text": [
      "Found GPU at: /device:GPU:0\n"
     ]
    },
    {
     "data": {
      "text/plain": [
       "[name: \"/device:CPU:0\"\n",
       " device_type: \"CPU\"\n",
       " memory_limit: 268435456\n",
       " locality {\n",
       " }\n",
       " incarnation: 14734970137599253332,\n",
       " name: \"/device:XLA_CPU:0\"\n",
       " device_type: \"XLA_CPU\"\n",
       " memory_limit: 17179869184\n",
       " locality {\n",
       " }\n",
       " incarnation: 14840531368970938583\n",
       " physical_device_desc: \"device: XLA_CPU device\",\n",
       " name: \"/device:XLA_GPU:0\"\n",
       " device_type: \"XLA_GPU\"\n",
       " memory_limit: 17179869184\n",
       " locality {\n",
       " }\n",
       " incarnation: 15935409264221099249\n",
       " physical_device_desc: \"device: XLA_GPU device\",\n",
       " name: \"/device:GPU:0\"\n",
       " device_type: \"GPU\"\n",
       " memory_limit: 11235482010\n",
       " locality {\n",
       "   bus_id: 1\n",
       "   links {\n",
       "   }\n",
       " }\n",
       " incarnation: 11566607081140044611\n",
       " physical_device_desc: \"device: 0, name: Tesla K80, pci bus id: 0000:00:04.0, compute capability: 3.7\"]"
      ]
     },
     "execution_count": 2,
     "metadata": {},
     "output_type": "execute_result"
    }
   ],
   "source": [
    "# Check GPU available\n",
    "#tensorflow_version 2.x\n",
    "import tensorflow as tf\n",
    "device_name = tf.test.gpu_device_name()\n",
    "if device_name != '/device:GPU:0':\n",
    "  raise SystemError('GPU device not found')\n",
    "print('Found GPU at: {}'.format(device_name))\n",
    "from tensorflow.python.client import device_lib\n",
    "device_lib.list_local_devices()"
   ]
  },
  {
   "cell_type": "code",
   "execution_count": 3,
   "metadata": {
    "colab": {},
    "colab_type": "code",
    "id": "un5sQYM-e-sd",
    "nbpresent": {
     "id": "7dda9087-8366-4ddc-9527-5082ef968e65"
    },
    "outputId": "c07a9b11-2cd5-4ea3-c137-1769fdfd2fcd"
   },
   "outputs": [
    {
     "name": "stderr",
     "output_type": "stream",
     "text": [
      "100%|██████████| 1821/1821 [01:17<00:00, 23.49it/s]\n",
      "100%|██████████| 1821/1821 [01:17<00:00, 23.49it/s]\n"
     ]
    }
   ],
   "source": [
    "submission=pd.read_csv('./sample_submission.csv')\n",
    "train=pd.read_csv('./train.csv')\n",
    "test=pd.read_csv('./test.csv')\n",
    "\n",
    "# train.head()\n",
    "# test.head()\n",
    "# submission.head()\n",
    "\n",
    "# Load training set\n",
    "train_img=[]\n",
    "train_label=[]\n",
    "path='./images'\n",
    "for im in tqdm(train['image_id']):\n",
    "    im=im+\".jpg\"\n",
    "    final_path=os.path.join(path,im)\n",
    "    img=cv2.imread(final_path)\n",
    "    img=cv2.resize(img,(224,224))\n",
    "    img=img.astype('float32')\n",
    "    train_img.append(img)\n",
    "\n",
    "# Load test set\n",
    "test_img=[]\n",
    "path='./images'\n",
    "for im in tqdm(test['image_id']):\n",
    "    im=im+\".jpg\"\n",
    "    final_path=os.path.join(path,im)\n",
    "    img=cv2.imread(final_path)\n",
    "    img=cv2.resize(img,(224,224))\n",
    "    img=img.astype(('float32'))\n",
    "    test_img.append(img)"
   ]
  },
  {
   "cell_type": "code",
   "execution_count": 4,
   "metadata": {
    "colab": {
     "base_uri": "https://localhost:8080/",
     "height": 51
    },
    "colab_type": "code",
    "id": "znzkVFk5e-so",
    "nbpresent": {
     "id": "ecfe9bdc-cc9b-4ad9-87ef-1bcc202b506e"
    },
    "outputId": "89d0c919-9716-4223-b788-b62b2edc205b"
   },
   "outputs": [
    {
     "name": "stdout",
     "output_type": "stream",
     "text": [
      "[[0 0 0 1]\n",
      " [0 1 0 0]\n",
      " [1 0 0 0]\n",
      " ...\n",
      " [1 0 0 0]\n",
      " [0 0 1 0]\n",
      " [0 0 0 1]]\n",
      "Training set size: (1821, 224, 224, 3)\n",
      "Training label size: (1821, 4)\n"
     ]
    }
   ],
   "source": [
    "# Create training labels\n",
    "train_label=train.loc[:,'healthy':'scab']\n",
    "train_img=np.array(train_img)\n",
    "test_img=np.array(test_img)\n",
    "train_label=np.array(train_label)\n",
    "\n",
    "print(train_label)\n",
    "\n",
    "print(\"Training set size:\",train_img.shape)\n",
    "print(\"Training label size:\",train_label.shape)"
   ]
  },
  {
   "cell_type": "code",
   "execution_count": 5,
   "metadata": {
    "colab": {},
    "colab_type": "code",
    "id": "gq2hyX8Ze-sq",
    "nbpresent": {
     "id": "b9408ac0-1728-4824-a093-99fe734bce33"
    }
   },
   "outputs": [],
   "source": [
    "# Image pre-processing\n",
    "from tensorflow.keras.preprocessing.image import ImageDataGenerator\n",
    "data_aug = ImageDataGenerator(\n",
    "        rotation_range=10,  \n",
    "        zoom_range = 0.1, \n",
    "        width_shift_range=0.2,  \n",
    "        height_shift_range=0.2,  \n",
    "        horizontal_flip=True,  \n",
    "        vertical_flip=False)  \n"
   ]
  },
  {
   "cell_type": "code",
   "execution_count": 6,
   "metadata": {
    "colab": {
     "base_uri": "https://localhost:8080/",
     "height": 85
    },
    "colab_type": "code",
    "id": "k-ZIRRHXe-st",
    "nbpresent": {
     "id": "826cb801-bb9c-4365-a240-94a60b1d13e2"
    },
    "outputId": "af4224a4-64b1-4a1e-c7f6-1b915f167f79"
   },
   "outputs": [
    {
     "name": "stdout",
     "output_type": "stream",
     "text": [
      "(1456, 224, 224, 3)\n",
      "(365, 224, 224, 3)\n",
      "(1456, 4)\n",
      "(365, 4)\n"
     ]
    }
   ],
   "source": [
    "# Train-val split 80-20 split. No K-fold at the moment\n",
    "from sklearn.model_selection import train_test_split\n",
    "X_train, X_val, y_train, y_val = train_test_split(train_img, train_label, test_size=0.2, random_state=1)\n",
    "print(X_train.shape)\n",
    "print(X_val.shape)\n",
    "print(y_train.shape)\n",
    "print(y_val.shape)"
   ]
  },
  {
   "cell_type": "code",
   "execution_count": 7,
   "metadata": {
    "colab": {},
    "colab_type": "code",
    "id": "mg0ncI4ne-sv",
    "nbpresent": {
     "id": "c329af35-3a34-44d0-ac87-5d80234c29d3"
    }
   },
   "outputs": [
    {
     "name": "stderr",
     "output_type": "stream",
     "text": [
      "Using TensorFlow backend.\n"
     ]
    }
   ],
   "source": [
    "from tensorflow.keras.applications.vgg16 import VGG16\n",
    "from tensorflow.keras.applications.densenet import DenseNet121\n",
    "from keras.applications.vgg16 import preprocess_input\n",
    "\n",
    "from tensorflow.keras.layers import Flatten,Dense,Dropout,BatchNormalization\n",
    "from tensorflow.keras.models import Model,Sequential\n",
    "from tensorflow.keras.utils import to_categorical\n",
    "from keras.layers import Conv2D, MaxPooling2D, BatchNormalization\n",
    "\n",
    "from tensorflow.keras.callbacks import ReduceLROnPlateau"
   ]
  },
  {
   "cell_type": "code",
   "execution_count": 9,
   "metadata": {
    "nbpresent": {
     "id": "40322667-32a8-4730-8889-db23ec071f4d"
    },
    "scrolled": true
   },
   "outputs": [
    {
     "name": "stdout",
     "output_type": "stream",
     "text": [
      "Model: \"sequential_1\"\n",
      "_________________________________________________________________\n",
      "Layer (type)                 Output Shape              Param #   \n",
      "=================================================================\n",
      "densenet121 (Model)          (None, 1024)              7037504   \n",
      "_________________________________________________________________\n",
      "dense_2 (Dense)              (None, 256)               262400    \n",
      "_________________________________________________________________\n",
      "dense_3 (Dense)              (None, 4)                 1028      \n",
      "=================================================================\n",
      "Total params: 7,300,932\n",
      "Trainable params: 263,428\n",
      "Non-trainable params: 7,037,504\n",
      "_________________________________________________________________\n"
     ]
    }
   ],
   "source": [
    "# DenseNet121-based model + Dense(256) + Dense(4)\n",
    "import tensorflow.keras as keras\n",
    "base_model=DenseNet121(include_top=False, weights='imagenet',input_shape=(224,224,3), pooling='avg')\n",
    "model=Sequential()\n",
    "model.add(base_model)\n",
    "model.add(Dense(256,activation='relu'))\n",
    "model.add(Dense(4,activation='softmax'))\n",
    "base_model.trainable=False\n",
    "model.compile( optimizer=keras.optimizers.Adam(1e-3),loss='categorical_crossentropy',metrics=['accuracy'])\n",
    "model.summary()"
   ]
  },
  {
   "cell_type": "code",
   "execution_count": 10,
   "metadata": {
    "scrolled": true
   },
   "outputs": [
    {
     "name": "stdout",
     "output_type": "stream",
     "text": [
      "WARNING:tensorflow:sample_weight modes were coerced from\n",
      "  ...\n",
      "    to  \n",
      "  ['...']\n",
      "Train for 91 steps, validate on 365 samples\n",
      "Epoch 1/10\n",
      "91/91 [==============================] - 34s 368ms/step - loss: 1.0609 - accuracy: 0.5797 - val_loss: 8.6978 - val_accuracy: 0.3342\n",
      "Epoch 2/10\n",
      "91/91 [==============================] - 23s 251ms/step - loss: 0.7333 - accuracy: 0.7191 - val_loss: 10.0386 - val_accuracy: 0.3342\n",
      "Epoch 3/10\n",
      "91/91 [==============================] - 23s 250ms/step - loss: 0.6478 - accuracy: 0.7582 - val_loss: 13.6223 - val_accuracy: 0.3342\n",
      "Epoch 4/10\n",
      "91/91 [==============================] - 23s 250ms/step - loss: 0.6611 - accuracy: 0.7418 - val_loss: 15.2637 - val_accuracy: 0.3288\n",
      "Epoch 5/10\n",
      "91/91 [==============================] - 23s 251ms/step - loss: 0.5859 - accuracy: 0.7871 - val_loss: 18.9749 - val_accuracy: 0.3288\n",
      "Epoch 6/10\n",
      "91/91 [==============================] - 23s 250ms/step - loss: 0.5934 - accuracy: 0.7823 - val_loss: 12.7906 - val_accuracy: 0.3397\n",
      "Epoch 7/10\n",
      "91/91 [==============================] - 23s 249ms/step - loss: 0.5910 - accuracy: 0.7720 - val_loss: 11.9349 - val_accuracy: 0.3370\n",
      "Epoch 8/10\n",
      "91/91 [==============================] - 23s 248ms/step - loss: 0.5745 - accuracy: 0.7850 - val_loss: 15.4601 - val_accuracy: 0.3370\n",
      "Epoch 9/10\n",
      "91/91 [==============================] - 23s 249ms/step - loss: 0.5538 - accuracy: 0.7953 - val_loss: 16.7943 - val_accuracy: 0.3342\n",
      "Epoch 10/10\n",
      "91/91 [==============================] - 23s 249ms/step - loss: 0.5318 - accuracy: 0.7995 - val_loss: 19.7124 - val_accuracy: 0.3315\n",
      "WARNING:tensorflow:sample_weight modes were coerced from\n",
      "  ...\n",
      "    to  \n",
      "  ['...']\n",
      "Train for 91 steps, validate on 365 samples\n",
      "Epoch 1/30\n",
      "91/91 [==============================] - 57s 629ms/step - loss: 0.4641 - accuracy: 0.8338 - val_loss: 0.7121 - val_accuracy: 0.7507\n",
      "Epoch 2/30\n",
      "91/91 [==============================] - 39s 432ms/step - loss: 0.3615 - accuracy: 0.8736 - val_loss: 0.4953 - val_accuracy: 0.8192\n",
      "Epoch 3/30\n",
      "91/91 [==============================] - 39s 433ms/step - loss: 0.3042 - accuracy: 0.8908 - val_loss: 0.4309 - val_accuracy: 0.8548\n",
      "Epoch 4/30\n",
      "91/91 [==============================] - 39s 433ms/step - loss: 0.2476 - accuracy: 0.9114 - val_loss: 0.3544 - val_accuracy: 0.8712\n",
      "Epoch 5/30\n",
      "91/91 [==============================] - 39s 432ms/step - loss: 0.2252 - accuracy: 0.9217 - val_loss: 0.3541 - val_accuracy: 0.8795\n",
      "Epoch 6/30\n",
      "91/91 [==============================] - 39s 433ms/step - loss: 0.1776 - accuracy: 0.9430 - val_loss: 0.3273 - val_accuracy: 0.8904\n",
      "Epoch 7/30\n",
      "91/91 [==============================] - 39s 433ms/step - loss: 0.1637 - accuracy: 0.9499 - val_loss: 0.3201 - val_accuracy: 0.9014\n",
      "Epoch 8/30\n",
      "91/91 [==============================] - 39s 432ms/step - loss: 0.1442 - accuracy: 0.9540 - val_loss: 0.3301 - val_accuracy: 0.9014\n",
      "Epoch 9/30\n",
      "91/91 [==============================] - 39s 433ms/step - loss: 0.1298 - accuracy: 0.9526 - val_loss: 0.3074 - val_accuracy: 0.9068\n",
      "Epoch 10/30\n",
      "91/91 [==============================] - 39s 432ms/step - loss: 0.1170 - accuracy: 0.9629 - val_loss: 0.3066 - val_accuracy: 0.9068\n",
      "Epoch 11/30\n",
      "91/91 [==============================] - 39s 433ms/step - loss: 0.0958 - accuracy: 0.9760 - val_loss: 0.3050 - val_accuracy: 0.9041\n",
      "Epoch 12/30\n",
      "91/91 [==============================] - 39s 433ms/step - loss: 0.0892 - accuracy: 0.9753 - val_loss: 0.2987 - val_accuracy: 0.9096\n",
      "Epoch 13/30\n",
      "91/91 [==============================] - 39s 432ms/step - loss: 0.0705 - accuracy: 0.9863 - val_loss: 0.2944 - val_accuracy: 0.9123\n",
      "Epoch 14/30\n",
      "91/91 [==============================] - 39s 432ms/step - loss: 0.0654 - accuracy: 0.9808 - val_loss: 0.2840 - val_accuracy: 0.9178\n",
      "Epoch 15/30\n",
      "91/91 [==============================] - 39s 433ms/step - loss: 0.0624 - accuracy: 0.9842 - val_loss: 0.3017 - val_accuracy: 0.9096\n",
      "Epoch 16/30\n",
      "91/91 [==============================] - 39s 433ms/step - loss: 0.0504 - accuracy: 0.9883 - val_loss: 0.2930 - val_accuracy: 0.9068\n",
      "Epoch 17/30\n",
      "91/91 [==============================] - 39s 432ms/step - loss: 0.0476 - accuracy: 0.9918 - val_loss: 0.2914 - val_accuracy: 0.9151\n",
      "Epoch 18/30\n",
      "91/91 [==============================] - 39s 432ms/step - loss: 0.0406 - accuracy: 0.9924 - val_loss: 0.2935 - val_accuracy: 0.9123\n",
      "Epoch 19/30\n",
      "91/91 [==============================] - 39s 433ms/step - loss: 0.0347 - accuracy: 0.9945 - val_loss: 0.2870 - val_accuracy: 0.9123\n",
      "Epoch 20/30\n",
      "91/91 [==============================] - 39s 432ms/step - loss: 0.0331 - accuracy: 0.9959 - val_loss: 0.2865 - val_accuracy: 0.9151\n",
      "Epoch 21/30\n",
      "91/91 [==============================] - 39s 433ms/step - loss: 0.0312 - accuracy: 0.9966 - val_loss: 0.2868 - val_accuracy: 0.9178\n",
      "Epoch 22/30\n",
      "91/91 [==============================] - 39s 433ms/step - loss: 0.0284 - accuracy: 0.9966 - val_loss: 0.2853 - val_accuracy: 0.9205\n",
      "Epoch 23/30\n",
      "91/91 [==============================] - 39s 434ms/step - loss: 0.0233 - accuracy: 0.9979 - val_loss: 0.2936 - val_accuracy: 0.9151\n",
      "Epoch 24/30\n",
      "91/91 [==============================] - 39s 433ms/step - loss: 0.0217 - accuracy: 0.9966 - val_loss: 0.2760 - val_accuracy: 0.9260\n",
      "Epoch 25/30\n",
      "91/91 [==============================] - 39s 433ms/step - loss: 0.0205 - accuracy: 0.9973 - val_loss: 0.3114 - val_accuracy: 0.9178\n",
      "Epoch 26/30\n",
      "91/91 [==============================] - 39s 433ms/step - loss: 0.0176 - accuracy: 0.9986 - val_loss: 0.3105 - val_accuracy: 0.9178\n",
      "Epoch 27/30\n",
      "91/91 [==============================] - 39s 432ms/step - loss: 0.0191 - accuracy: 0.9966 - val_loss: 0.3244 - val_accuracy: 0.9178\n",
      "Epoch 28/30\n",
      "91/91 [==============================] - 39s 431ms/step - loss: 0.0145 - accuracy: 0.9993 - val_loss: 0.2976 - val_accuracy: 0.9205\n",
      "Epoch 29/30\n",
      "91/91 [==============================] - 39s 432ms/step - loss: 0.0131 - accuracy: 0.9993 - val_loss: 0.2957 - val_accuracy: 0.9151\n",
      "Epoch 30/30\n",
      "91/91 [==============================] - 39s 432ms/step - loss: 0.0111 - accuracy: 0.9993 - val_loss: 0.2978 - val_accuracy: 0.9260\n"
     ]
    }
   ],
   "source": [
    "BS = 16\n",
    "EPOCHS = 10;\n",
    "history_aug_firstpart = model.fit(data_aug.flow(X_train, y_train, batch_size = BS),\n",
    "\tvalidation_data=(X_val, y_val), \n",
    "\tepochs=EPOCHS)\n",
    "\n",
    "import tensorflow.keras as keras\n",
    "base_model.trainable=True\n",
    "model.compile(optimizer=keras.optimizers.Adam(1e-5),loss='categorical_crossentropy',metrics=['accuracy'])\n",
    "BS = 16\n",
    "EPOCHS = 30;\n",
    "history_aug_secondpart = model.fit(data_aug.flow(X_train, y_train, batch_size = BS),\n",
    "\tvalidation_data=(X_val, y_val), \n",
    "\tepochs=EPOCHS)"
   ]
  },
  {
   "cell_type": "code",
   "execution_count": 11,
   "metadata": {
    "colab": {
     "base_uri": "https://localhost:8080/",
     "height": 590
    },
    "colab_type": "code",
    "id": "4jrmUazAe-s1",
    "nbpresent": {
     "id": "f9de838d-4a7e-404b-a0a3-b740e9c91f87"
    },
    "outputId": "a704650c-684b-4319-ade9-b9bc766f23e4",
    "scrolled": true
   },
   "outputs": [
    {
     "data": {
      "image/png": "[encoded data removed]",
      "text/plain": [
       "<Figure size 432x288 with 1 Axes>"
      ]
     },
     "metadata": {
      "needs_background": "light"
     },
     "output_type": "display_data"
    },
    {
     "data": {
      "image/png": "[encoded data removed]",
      "text/plain": [
       "<Figure size 432x288 with 1 Axes>"
      ]
     },
     "metadata": {
      "needs_background": "light"
     },
     "output_type": "display_data"
    }
   ],
   "source": [
    "# Plot training loss and accuracy\n",
    "history = history_aug_secondpart\n",
    "plt.figure()\n",
    "\n",
    "plt.plot(history.history['accuracy'])\n",
    "plt.plot(history.history['val_accuracy'])\n",
    "plt.title('Model accuracy')\n",
    "plt.ylabel('Accuracy')\n",
    "plt.xlabel('Epoch')\n",
    "plt.legend(['Train', 'Val'], loc='upper left')\n",
    "plt.savefig('DenseNet121_finetune_accuracy.png', dpi=150)\n",
    "\n",
    "plt.figure()\n",
    "plt.plot(history.history['loss'])\n",
    "plt.plot(history.history['val_loss'])\n",
    "plt.title('Model loss')\n",
    "plt.ylabel('Accuracy')\n",
    "plt.xlabel('Epoch')\n",
    "plt.legend(['Train', 'Val'], loc='upper left')\n",
    "\n",
    "plt.savefig('DenseNet121_finetune_loss.png', dpi=150)\n",
    "\n"
   ]
  },
  {
   "cell_type": "code",
   "execution_count": null,
   "metadata": {
    "colab": {
     "base_uri": "https://localhost:8080/",
     "height": 303
    },
    "colab_type": "code",
    "id": "znKOLjA2LolR",
    "nbpresent": {
     "id": "650735a4-6ebc-46be-b025-2da3de48fb39"
    },
    "outputId": "b683c17c-4ec8-4347-82b9-84374d88fd5a",
    "scrolled": true
   },
   "outputs": [],
   "source": [
    "# # Model visualization\n",
    "# model.summary()\n",
    "# layer_outputs = [layer.output for layer in model.layers[0].layers]\n",
    "\n",
    "# visualize_model = Model(inputs = model.layers[0].layers[0].input, outputs=layer_outputs)\n"
   ]
  },
  {
   "cell_type": "code",
   "execution_count": null,
   "metadata": {
    "nbpresent": {
     "id": "55d78a36-b742-496b-be87-430f6e7c12ed"
    }
   },
   "outputs": [],
   "source": [
    "# from numpy import expand_dims\n",
    "# train_img.shape\n",
    "# img_idx = 9;\n",
    "# img = train_img[img_idx,:,:,:]\n",
    "# img = expand_dims(img, axis=0)\n",
    "# img.shape\n",
    "# feature_maps = visualize_model.predict(img)\n",
    "# feature_maps[1].shape\n",
    "\n",
    "# # plot all 64 maps in an 8x8 squares\n",
    "# plt.figure()\n",
    "# from PIL import Image\n",
    "# img_img = Image.fromarray(img[0,:,:,:].astype('uint8')).convert('RGB')\n",
    "# plt.imshow(img_img)\n",
    "\n",
    "# # plt.figure()\n",
    "# idx = 1\n",
    "# fig, axes = plt.subplots(nrows=4, ncols=16)\n",
    "# for ax in axes.flat:\n",
    "#     im = ax.imshow(feature_maps[17][0, :, :, idx-1], cmap='viridis')\n",
    "#     ax.set_xticks([])\n",
    "#     ax.set_yticks([])\n",
    "#     idx+=1\n",
    "# fig.colorbar(im, ax=axes.ravel().tolist())\n",
    "# fig.set_figheight(8)\n",
    "# fig.set_figwidth(32)"
   ]
  },
  {
   "cell_type": "code",
   "execution_count": null,
   "metadata": {},
   "outputs": [],
   "source": [
    "# def featVisualization(visualize_model, img):\n",
    "#     from numpy import expand_dims\n",
    "#     from PIL import Image\n",
    "#     img = expand_dims(img, axis=0)\n",
    "#     img.shape\n",
    "#     feature_maps = visualize_model.predict(img)\n",
    "#     feature_maps[1].shape\n",
    "\n",
    "#     # plot all 64 maps in an 8x8 squares\n",
    "#     plt.figure()\n",
    "#     img_img = Image.fromarray(img[0,:,:,:].astype('uint8')).convert('RGB')\n",
    "#     plt.imshow(img_img)\n",
    "\n",
    "#     # plt.figure()\n",
    "#     idx = 1\n",
    "#     fig, axes = plt.subplots(nrows=4, ncols=16)\n",
    "#     for ax in axes.flat:\n",
    "#         im = ax.imshow(feature_maps[17][0, :, :, idx-1], cmap='viridis')\n",
    "#         ax.set_xticks([])\n",
    "#         ax.set_yticks([])\n",
    "#         idx+=1\n",
    "#     fig.colorbar(im, ax=axes.ravel().tolist())\n",
    "#     fig.set_figheight(8)\n",
    "#     fig.set_figwidth(32)"
   ]
  },
  {
   "cell_type": "code",
   "execution_count": null,
   "metadata": {},
   "outputs": [],
   "source": [
    "# img_idx = 9;\n",
    "# img = train_img[img_idx,:,:,:]\n",
    "# featVisualization(visualize_model, img)"
   ]
  },
  {
   "cell_type": "code",
   "execution_count": 12,
   "metadata": {
    "colab": {
     "base_uri": "https://localhost:8080/",
     "height": 198
    },
    "colab_type": "code",
    "id": "LUvahu-Ge-s3",
    "nbpresent": {
     "id": "4613c384-c83d-47a7-b83a-64504b584a64"
    },
    "outputId": "aabf74d5-add6-4a39-9754-b7b42aa6d745"
   },
   "outputs": [],
   "source": [
    "# Save training results\n",
    "f = open(\"./results/DenseNet121_history_aug_finetune.pkl\",\"wb\")\n",
    "pickle.dump(history.history,f)\n",
    "f.close()"
   ]
  },
  {
   "cell_type": "code",
   "execution_count": null,
   "metadata": {
    "colab": {
     "base_uri": "https://localhost:8080/",
     "height": 164
    },
    "colab_type": "code",
    "id": "kMUY566ne-s5",
    "nbpresent": {
     "id": "ddfb4895-7722-4467-8856-95609c6b5377"
    },
    "outputId": "650893a3-8b78-4807-ced4-1b3b78495da6"
   },
   "outputs": [],
   "source": [
    "#  Load old training results\n",
    "# new_history = pickle.load( open( \"./results/VGG_history.pkl\", \"rb\" ) )\n"
   ]
  },
  {
   "cell_type": "code",
   "execution_count": 13,
   "metadata": {},
   "outputs": [
    {
     "data": {
      "text/plain": [
       "array([[ 96,   0,   2,   1],\n",
       "       [  3,  10,   4,   2],\n",
       "       [  1,   1, 118,   0],\n",
       "       [  7,   3,   3, 114]])"
      ]
     },
     "execution_count": 13,
     "metadata": {},
     "output_type": "execute_result"
    }
   ],
   "source": [
    "# submission\n",
    "y_pred = model.predict(test_img)\n",
    "\n",
    "\n",
    "submission.loc[:,'healthy':'scab'] = y_pred\n",
    "submission.to_csv('Dense_finetune.csv',index = False)\n",
    "\n",
    "# PLot confusion matrix\n",
    "\n",
    "val_pred = model.predict(X_val)\n",
    "\n",
    "pred_index = np.argmax(val_pred,1)\n",
    "y_val_index = np.argmax(y_val,1)\n",
    "type(pred_index)\n",
    "\n",
    "from sklearn.metrics import confusion_matrix, plot_confusion_matrix\n",
    "confusion_matrix(y_val_index, pred_index)"
   ]
  },
  {
   "cell_type": "code",
   "execution_count": 15,
   "metadata": {},
   "outputs": [
    {
     "data": {
      "text/plain": [
       "<matplotlib.axes._subplots.AxesSubplot at 0x7fb8f5779210>"
      ]
     },
     "execution_count": 15,
     "metadata": {},
     "output_type": "execute_result"
    },
    {
     "data": {
      "image/png": "[encoded data removed]",
      "text/plain": [
       "<Figure size 432x288 with 2 Axes>"
      ]
     },
     "metadata": {},
     "output_type": "display_data"
    }
   ],
   "source": [
    "confusion_Dense_finetune = np.array([[ 96,   0,   2,   1],\n",
    "       [  3,  10,   4,   2],\n",
    "       [  1,   1, 118,   0],\n",
    "       [  7,   3,   3, 114]])\n",
    "confusion = confusion_Dense_finetune\n",
    "import seaborn as sn\n",
    "df_cm = pd.DataFrame(confusion, index=[\"Healthy\", \"Multiple\", \"Rust\", \"Scab\"], columns=[\"Healthy\", \"Multiple\", \"Rust\", \"Scab\"])\n",
    "sn.set(font_scale=1.4)\n",
    "sn.heatmap(df_cm, annot=True,cmap=\"YlGnBu\",fmt=\"d\", annot_kws={\"size\": 13})"
   ]
  },
  {
   "cell_type": "code",
   "execution_count": null,
   "metadata": {},
   "outputs": [],
   "source": []
  }
 ],
 "metadata": {
  "accelerator": "GPU",
  "colab": {
   "name": "Pathology_template_VGG16.ipynb",
   "provenance": []
  },
  "kernelspec": {
   "display_name": "Python 3",
   "language": "python",
   "name": "python3"
  },
  "language_info": {
   "codemirror_mode": {
    "name": "ipython",
    "version": 3
   },
   "file_extension": ".py",
   "mimetype": "text/x-python",
   "name": "python",
   "nbconvert_exporter": "python",
   "pygments_lexer": "ipython3",
   "version": "3.7.6"
  }
 },
 "nbformat": 4,
 "nbformat_minor": 1
}
