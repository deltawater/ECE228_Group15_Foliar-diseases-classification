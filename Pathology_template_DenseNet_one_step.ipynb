{
 "cells": [
  {
   "cell_type": "code",
   "execution_count": 1,
   "metadata": {
    "colab": {},
    "colab_type": "code",
    "id": "EQJk3YwZe-sN",
    "nbpresent": {
     "id": "b6e776bc-7c27-402c-b3e0-1e189b79df1a"
    }
   },
   "outputs": [],
   "source": [
    "from tqdm import tqdm\n",
    "import cv2\n",
    "import pandas as pd\n",
    "import numpy as np\n",
    "import os\n",
    "import matplotlib.pyplot as plt\n",
    "import pickle"
   ]
  },
  {
   "cell_type": "code",
   "execution_count": 2,
   "metadata": {
    "colab": {
     "base_uri": "https://localhost:8080/",
     "height": 493
    },
    "colab_type": "code",
    "id": "vdsNv_GxmeQ9",
    "nbpresent": {
     "id": "71fab374-172e-4fa3-9b70-f27666304b3a"
    },
    "outputId": "e9f33683-9ab9-4004-a343-8b22010c0ae7"
   },
   "outputs": [
    {
     "name": "stdout",
     "output_type": "stream",
     "text": [
      "Found GPU at: /device:GPU:0\n"
     ]
    },
    {
     "data": {
      "text/plain": [
       "[name: \"/device:CPU:0\"\n",
       " device_type: \"CPU\"\n",
       " memory_limit: 268435456\n",
       " locality {\n",
       " }\n",
       " incarnation: 10877778218757938256,\n",
       " name: \"/device:XLA_CPU:0\"\n",
       " device_type: \"XLA_CPU\"\n",
       " memory_limit: 17179869184\n",
       " locality {\n",
       " }\n",
       " incarnation: 7859600245935066641\n",
       " physical_device_desc: \"device: XLA_CPU device\",\n",
       " name: \"/device:XLA_GPU:0\"\n",
       " device_type: \"XLA_GPU\"\n",
       " memory_limit: 17179869184\n",
       " locality {\n",
       " }\n",
       " incarnation: 16030513751193776562\n",
       " physical_device_desc: \"device: XLA_GPU device\",\n",
       " name: \"/device:GPU:0\"\n",
       " device_type: \"GPU\"\n",
       " memory_limit: 11235482010\n",
       " locality {\n",
       "   bus_id: 1\n",
       "   links {\n",
       "   }\n",
       " }\n",
       " incarnation: 10717290859180196701\n",
       " physical_device_desc: \"device: 0, name: Tesla K80, pci bus id: 0000:00:04.0, compute capability: 3.7\"]"
      ]
     },
     "execution_count": 2,
     "metadata": {},
     "output_type": "execute_result"
    }
   ],
   "source": [
    "# Check GPU available\n",
    "#tensorflow_version 2.x\n",
    "import tensorflow as tf\n",
    "device_name = tf.test.gpu_device_name()\n",
    "if device_name != '/device:GPU:0':\n",
    "  raise SystemError('GPU device not found')\n",
    "print('Found GPU at: {}'.format(device_name))\n",
    "from tensorflow.python.client import device_lib\n",
    "device_lib.list_local_devices()"
   ]
  },
  {
   "cell_type": "code",
   "execution_count": 3,
   "metadata": {
    "colab": {},
    "colab_type": "code",
    "id": "un5sQYM-e-sd",
    "nbpresent": {
     "id": "7dda9087-8366-4ddc-9527-5082ef968e65"
    },
    "outputId": "c07a9b11-2cd5-4ea3-c137-1769fdfd2fcd"
   },
   "outputs": [
    {
     "name": "stderr",
     "output_type": "stream",
     "text": [
      "100%|██████████| 1821/1821 [01:21<00:00, 22.43it/s]\n",
      "100%|██████████| 1821/1821 [01:22<00:00, 22.18it/s]\n"
     ]
    }
   ],
   "source": [
    "submission=pd.read_csv('./sample_submission.csv')\n",
    "train=pd.read_csv('./train.csv')\n",
    "test=pd.read_csv('./test.csv')\n",
    "\n",
    "# train.head()\n",
    "# test.head()\n",
    "# submission.head()\n",
    "\n",
    "# Load training set\n",
    "train_img=[]\n",
    "train_label=[]\n",
    "path='./images'\n",
    "for im in tqdm(train['image_id']):\n",
    "    im=im+\".jpg\"\n",
    "    final_path=os.path.join(path,im)\n",
    "    img=cv2.imread(final_path)\n",
    "    img=cv2.resize(img,(224,224))\n",
    "    img=img.astype('float32')\n",
    "    train_img.append(img)\n",
    "\n",
    "# Load test set\n",
    "test_img=[]\n",
    "path='./images'\n",
    "for im in tqdm(test['image_id']):\n",
    "    im=im+\".jpg\"\n",
    "    final_path=os.path.join(path,im)\n",
    "    img=cv2.imread(final_path)\n",
    "    img=cv2.resize(img,(224,224))\n",
    "    img=img.astype(('float32'))\n",
    "    test_img.append(img)"
   ]
  },
  {
   "cell_type": "code",
   "execution_count": 4,
   "metadata": {
    "colab": {
     "base_uri": "https://localhost:8080/",
     "height": 51
    },
    "colab_type": "code",
    "id": "znzkVFk5e-so",
    "nbpresent": {
     "id": "ecfe9bdc-cc9b-4ad9-87ef-1bcc202b506e"
    },
    "outputId": "89d0c919-9716-4223-b788-b62b2edc205b"
   },
   "outputs": [
    {
     "name": "stdout",
     "output_type": "stream",
     "text": [
      "[[0 0 0 1]\n",
      " [0 1 0 0]\n",
      " [1 0 0 0]\n",
      " ...\n",
      " [1 0 0 0]\n",
      " [0 0 1 0]\n",
      " [0 0 0 1]]\n",
      "Training set size: (1821, 224, 224, 3)\n",
      "Training label size: (1821, 4)\n"
     ]
    }
   ],
   "source": [
    "# Create training labels\n",
    "train_label=train.loc[:,'healthy':'scab']\n",
    "train_img=np.array(train_img)\n",
    "test_img=np.array(test_img)\n",
    "train_label=np.array(train_label)\n",
    "\n",
    "print(train_label)\n",
    "\n",
    "print(\"Training set size:\",train_img.shape)\n",
    "print(\"Training label size:\",train_label.shape)"
   ]
  },
  {
   "cell_type": "code",
   "execution_count": 5,
   "metadata": {
    "colab": {},
    "colab_type": "code",
    "id": "gq2hyX8Ze-sq",
    "nbpresent": {
     "id": "b9408ac0-1728-4824-a093-99fe734bce33"
    }
   },
   "outputs": [],
   "source": [
    "# Image pre-processing\n",
    "from tensorflow.keras.preprocessing.image import ImageDataGenerator\n",
    "data_aug = ImageDataGenerator(\n",
    "        rotation_range=10,  \n",
    "        zoom_range = 0.1, \n",
    "        width_shift_range=0.2,  \n",
    "        height_shift_range=0.2,  \n",
    "        horizontal_flip=True,  \n",
    "        vertical_flip=False)  \n"
   ]
  },
  {
   "cell_type": "code",
   "execution_count": 6,
   "metadata": {
    "colab": {
     "base_uri": "https://localhost:8080/",
     "height": 85
    },
    "colab_type": "code",
    "id": "k-ZIRRHXe-st",
    "nbpresent": {
     "id": "826cb801-bb9c-4365-a240-94a60b1d13e2"
    },
    "outputId": "af4224a4-64b1-4a1e-c7f6-1b915f167f79"
   },
   "outputs": [
    {
     "name": "stdout",
     "output_type": "stream",
     "text": [
      "(1456, 224, 224, 3)\n",
      "(365, 224, 224, 3)\n",
      "(1456, 4)\n",
      "(365, 4)\n"
     ]
    }
   ],
   "source": [
    "# Train-val split 80-20 split. No K-fold at the moment\n",
    "from sklearn.model_selection import train_test_split\n",
    "X_train, X_val, y_train, y_val = train_test_split(train_img, train_label, test_size=0.2, random_state=1)\n",
    "print(X_train.shape)\n",
    "print(X_val.shape)\n",
    "print(y_train.shape)\n",
    "print(y_val.shape)"
   ]
  },
  {
   "cell_type": "code",
   "execution_count": 7,
   "metadata": {
    "colab": {},
    "colab_type": "code",
    "id": "mg0ncI4ne-sv",
    "nbpresent": {
     "id": "c329af35-3a34-44d0-ac87-5d80234c29d3"
    }
   },
   "outputs": [
    {
     "name": "stderr",
     "output_type": "stream",
     "text": [
      "Using TensorFlow backend.\n"
     ]
    }
   ],
   "source": [
    "from tensorflow.keras.applications.vgg16 import VGG16\n",
    "from tensorflow.keras.applications.densenet import DenseNet121\n",
    "from keras.applications.vgg16 import preprocess_input\n",
    "\n",
    "from tensorflow.keras.layers import Flatten,Dense,Dropout,BatchNormalization\n",
    "from tensorflow.keras.models import Model,Sequential\n",
    "from tensorflow.keras.utils import to_categorical\n",
    "from keras.layers import Conv2D, MaxPooling2D, BatchNormalization\n",
    "\n",
    "from tensorflow.keras.callbacks import ReduceLROnPlateau"
   ]
  },
  {
   "cell_type": "code",
   "execution_count": 9,
   "metadata": {
    "nbpresent": {
     "id": "40322667-32a8-4730-8889-db23ec071f4d"
    },
    "scrolled": true
   },
   "outputs": [
    {
     "name": "stdout",
     "output_type": "stream",
     "text": [
      "Model: \"sequential_1\"\n",
      "_________________________________________________________________\n",
      "Layer (type)                 Output Shape              Param #   \n",
      "=================================================================\n",
      "densenet121 (Model)          (None, 1024)              7037504   \n",
      "_________________________________________________________________\n",
      "dense_2 (Dense)              (None, 256)               262400    \n",
      "_________________________________________________________________\n",
      "dense_3 (Dense)              (None, 4)                 1028      \n",
      "=================================================================\n",
      "Total params: 7,300,932\n",
      "Trainable params: 7,217,284\n",
      "Non-trainable params: 83,648\n",
      "_________________________________________________________________\n"
     ]
    }
   ],
   "source": [
    "# DenseNet-based model + Dense(256) + Dense(4)\n",
    "import tensorflow.keras as keras\n",
    "base_model=DenseNet121(include_top=False, weights='imagenet',input_shape=(224,224,3), pooling='avg')\n",
    "model=Sequential()\n",
    "model.add(base_model)\n",
    "model.add(Dense(256,activation='relu'))\n",
    "model.add(Dense(4,activation='softmax'))\n",
    "#base_model.trainable=True\n",
    "model.compile(optimizer=keras.optimizers.Adam(1e-3),loss='categorical_crossentropy',metrics=['accuracy'])\n",
    "model.summary()"
   ]
  },
  {
   "cell_type": "code",
   "execution_count": 10,
   "metadata": {
    "scrolled": true
   },
   "outputs": [
    {
     "name": "stdout",
     "output_type": "stream",
     "text": [
      "WARNING:tensorflow:sample_weight modes were coerced from\n",
      "  ...\n",
      "    to  \n",
      "  ['...']\n",
      "Train for 91 steps, validate on 365 samples\n",
      "Epoch 1/20\n",
      "91/91 [==============================] - 62s 679ms/step - loss: 0.6415 - accuracy: 0.7953 - val_loss: 8.4290 - val_accuracy: 0.1973\n",
      "Epoch 2/20\n",
      "91/91 [==============================] - 38s 423ms/step - loss: 0.4315 - accuracy: 0.8777 - val_loss: 0.8518 - val_accuracy: 0.7644\n",
      "Epoch 3/20\n",
      "91/91 [==============================] - 38s 422ms/step - loss: 0.3579 - accuracy: 0.8867 - val_loss: 0.7558 - val_accuracy: 0.8466\n",
      "Epoch 4/20\n",
      "91/91 [==============================] - 38s 423ms/step - loss: 0.3123 - accuracy: 0.8977 - val_loss: 0.3853 - val_accuracy: 0.8685\n",
      "Epoch 5/20\n",
      "91/91 [==============================] - 38s 422ms/step - loss: 0.2758 - accuracy: 0.9114 - val_loss: 0.4613 - val_accuracy: 0.8630\n",
      "Epoch 6/20\n",
      "91/91 [==============================] - 38s 422ms/step - loss: 0.2711 - accuracy: 0.9128 - val_loss: 2.2994 - val_accuracy: 0.6027\n",
      "Epoch 7/20\n",
      "91/91 [==============================] - 38s 423ms/step - loss: 0.2932 - accuracy: 0.9107 - val_loss: 0.6050 - val_accuracy: 0.7945\n",
      "Epoch 8/20\n",
      "91/91 [==============================] - 38s 422ms/step - loss: 0.2682 - accuracy: 0.9155 - val_loss: 0.6263 - val_accuracy: 0.8438\n",
      "Epoch 9/20\n",
      "91/91 [==============================] - 38s 422ms/step - loss: 0.2299 - accuracy: 0.9258 - val_loss: 0.3251 - val_accuracy: 0.8932\n",
      "Epoch 10/20\n",
      "91/91 [==============================] - 38s 422ms/step - loss: 0.2174 - accuracy: 0.9313 - val_loss: 0.2893 - val_accuracy: 0.9123\n",
      "Epoch 11/20\n",
      "91/91 [==============================] - 38s 422ms/step - loss: 0.1994 - accuracy: 0.9299 - val_loss: 0.4150 - val_accuracy: 0.8904\n",
      "Epoch 12/20\n",
      "91/91 [==============================] - 38s 421ms/step - loss: 0.1793 - accuracy: 0.9402 - val_loss: 1.0836 - val_accuracy: 0.8055\n",
      "Epoch 13/20\n",
      "91/91 [==============================] - 38s 421ms/step - loss: 0.1716 - accuracy: 0.9320 - val_loss: 0.5734 - val_accuracy: 0.9041\n",
      "Epoch 14/20\n",
      "91/91 [==============================] - 38s 421ms/step - loss: 0.1884 - accuracy: 0.9396 - val_loss: 0.3032 - val_accuracy: 0.9178\n",
      "Epoch 15/20\n",
      "91/91 [==============================] - 38s 421ms/step - loss: 0.1798 - accuracy: 0.9348 - val_loss: 0.4099 - val_accuracy: 0.9096\n",
      "Epoch 16/20\n",
      "91/91 [==============================] - 38s 421ms/step - loss: 0.1318 - accuracy: 0.9499 - val_loss: 0.4190 - val_accuracy: 0.8986\n",
      "Epoch 17/20\n",
      "91/91 [==============================] - 38s 421ms/step - loss: 0.1462 - accuracy: 0.9464 - val_loss: 0.8604 - val_accuracy: 0.7534\n",
      "Epoch 18/20\n",
      "91/91 [==============================] - 38s 422ms/step - loss: 0.1442 - accuracy: 0.9540 - val_loss: 0.3310 - val_accuracy: 0.9041\n",
      "Epoch 19/20\n",
      "91/91 [==============================] - 38s 422ms/step - loss: 0.1429 - accuracy: 0.9464 - val_loss: 0.6371 - val_accuracy: 0.8685\n",
      "Epoch 20/20\n",
      "91/91 [==============================] - 38s 422ms/step - loss: 0.1430 - accuracy: 0.9478 - val_loss: 0.7989 - val_accuracy: 0.8630\n"
     ]
    }
   ],
   "source": [
    "BS = 16\n",
    "EPOCHS = 20;\n",
    "history_aug= model.fit(data_aug.flow(X_train, y_train, batch_size = BS),\n",
    "\tvalidation_data=(X_val, y_val), \n",
    "\tepochs=EPOCHS)\n",
    "\n",
    "# import tensorflow.keras as keras\n",
    "# base_model.trainable=True\n",
    "# model.compile(optimizer=keras.optimizers.Adam(1e-5),loss='categorical_crossentropy',metrics=['accuracy'])\n",
    "# BS = 16\n",
    "# EPOCHS = 70;\n",
    "# history_aug_secondpart = model.fit(data_aug.flow(X_train, y_train, batch_size = BS),\n",
    "# \tvalidation_data=(X_val, y_val), \n",
    "# \tepochs=EPOCHS)"
   ]
  },
  {
   "cell_type": "code",
   "execution_count": 11,
   "metadata": {
    "colab": {
     "base_uri": "https://localhost:8080/",
     "height": 590
    },
    "colab_type": "code",
    "id": "4jrmUazAe-s1",
    "nbpresent": {
     "id": "f9de838d-4a7e-404b-a0a3-b740e9c91f87"
    },
    "outputId": "a704650c-684b-4319-ade9-b9bc766f23e4",
    "scrolled": true
   },
   "outputs": [
    {
     "data": {
      "image/png": "[encoded data removed]",
      "text/plain": [
       "<Figure size 432x288 with 1 Axes>"
      ]
     },
     "metadata": {
      "needs_background": "light"
     },
     "output_type": "display_data"
    },
    {
     "data": {
      "image/png": "[encoded data removed]",
      "text/plain": [
       "<Figure size 432x288 with 1 Axes>"
      ]
     },
     "metadata": {
      "needs_background": "light"
     },
     "output_type": "display_data"
    }
   ],
   "source": [
    "# Plot training loss and accuracy\n",
    "history = history_aug\n",
    "plt.figure()\n",
    "\n",
    "plt.plot(history.history['accuracy'])\n",
    "plt.plot(history.history['val_accuracy'])\n",
    "plt.title('Model accuracy')\n",
    "plt.ylabel('Accuracy')\n",
    "plt.xlabel('Epoch')\n",
    "plt.legend(['Train', 'Val'], loc='upper left')\n",
    "plt.savefig('./results/DenseNet121_onestep_accuracy.png', dpi=150)\n",
    "\n",
    "plt.figure()\n",
    "plt.plot(history.history['loss'])\n",
    "plt.plot(history.history['val_loss'])\n",
    "plt.title('Model loss')\n",
    "plt.ylabel('Accuracy')\n",
    "plt.xlabel('Epoch')\n",
    "plt.legend(['Train', 'Val'], loc='upper left')\n",
    "\n",
    "plt.savefig('./results/DenseNet121_onestep_loss.png', dpi=150)\n",
    "\n"
   ]
  },
  {
   "cell_type": "code",
   "execution_count": null,
   "metadata": {},
   "outputs": [],
   "source": [
    "# img_idx = 9;\n",
    "# img = train_img[img_idx,:,:,:]\n",
    "# featVisualization(visualize_model, img)"
   ]
  },
  {
   "cell_type": "code",
   "execution_count": 12,
   "metadata": {
    "colab": {
     "base_uri": "https://localhost:8080/",
     "height": 198
    },
    "colab_type": "code",
    "id": "LUvahu-Ge-s3",
    "nbpresent": {
     "id": "4613c384-c83d-47a7-b83a-64504b584a64"
    },
    "outputId": "aabf74d5-add6-4a39-9754-b7b42aa6d745"
   },
   "outputs": [],
   "source": [
    "# Save training results\n",
    "f = open(\"./results/DenseNet121_history_aug_onestep.pkl\",\"wb\")\n",
    "pickle.dump(history.history,f)\n",
    "f.close()"
   ]
  },
  {
   "cell_type": "code",
   "execution_count": null,
   "metadata": {
    "colab": {
     "base_uri": "https://localhost:8080/",
     "height": 164
    },
    "colab_type": "code",
    "id": "kMUY566ne-s5",
    "nbpresent": {
     "id": "ddfb4895-7722-4467-8856-95609c6b5377"
    },
    "outputId": "650893a3-8b78-4807-ced4-1b3b78495da6"
   },
   "outputs": [],
   "source": [
    "#  Load old training results\n",
    "# new_history = pickle.load( open( \"./results/DenseNet121_history.pkl\", \"rb\" ) )\n"
   ]
  },
  {
   "cell_type": "code",
   "execution_count": 14,
   "metadata": {},
   "outputs": [
    {
     "data": {
      "text/plain": [
       "array([[ 99,   0,   0,   0],\n",
       "       [  2,   8,   7,   2],\n",
       "       [  0,   0, 120,   0],\n",
       "       [ 26,  11,   2,  88]])"
      ]
     },
     "execution_count": 14,
     "metadata": {},
     "output_type": "execute_result"
    }
   ],
   "source": [
    "# submission\n",
    "y_pred = model.predict(test_img)\n",
    "\n",
    "\n",
    "submission.loc[:,'healthy':'scab'] = y_pred\n",
    "submission.to_csv('DenseNet121_onestep.csv',index = False)\n",
    "\n",
    "# PLot confusion matrix\n",
    "\n",
    "val_pred = model.predict(X_val)\n",
    "\n",
    "pred_index = np.argmax(val_pred,1)\n",
    "y_val_index = np.argmax(y_val,1)\n",
    "type(pred_index)\n",
    "\n",
    "from sklearn.metrics import confusion_matrix, plot_confusion_matrix\n",
    "confusion_matrix(y_val_index, pred_index)"
   ]
  },
  {
   "cell_type": "code",
   "execution_count": null,
   "metadata": {},
   "outputs": [],
   "source": []
  }
 ],
 "metadata": {
  "accelerator": "GPU",
  "colab": {
   "name": "Pathology_template_VGG16.ipynb",
   "provenance": []
  },
  "kernelspec": {
   "display_name": "Python 3",
   "language": "python",
   "name": "python3"
  },
  "language_info": {
   "codemirror_mode": {
    "name": "ipython",
    "version": 3
   },
   "file_extension": ".py",
   "mimetype": "text/x-python",
   "name": "python",
   "nbconvert_exporter": "python",
   "pygments_lexer": "ipython3",
   "version": "3.7.6"
  }
 },
 "nbformat": 4,
 "nbformat_minor": 1
}
